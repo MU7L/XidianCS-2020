{
 "cells": [
  {
   "cell_type": "code",
   "execution_count": 1,
   "id": "d761b818",
   "metadata": {},
   "outputs": [],
   "source": [
    "import numpy as np\n",
    "import pyecharts.options as opts\n",
    "from pyecharts.charts import Line3D\n",
    "from pyecharts.charts import Surface3D"
   ]
  },
  {
   "cell_type": "markdown",
   "id": "485aaef7",
   "metadata": {},
   "source": [
    "#### 螺旋曲线（半径为5，每旋转一周z坐标增加π"
   ]
  },
  {
   "cell_type": "code",
   "execution_count": null,
   "id": "e87f56eb",
   "metadata": {},
   "outputs": [],
   "source": [
    "spiral_list = []\n",
    "for wt in np.arange(0, 20*np.pi, np.pi/20):\n",
    "    x = 5*np.cos(0.5*wt)\n",
    "    y = 5*np.sin(0.5*wt)\n",
    "    z = 0.5*wt\n",
    "    spiral_list.append([x, y, z])\n",
    "\n",
    "res1 = (\n",
    "    Line3D()\n",
    "    .add(\n",
    "        series_name=\"螺旋曲线\",\n",
    "        data=spiral_list,\n",
    "        xaxis3d_opts=opts.Axis3DOpts(type_=\"value\"),\n",
    "        yaxis3d_opts=opts.Axis3DOpts(type_=\"value\"),\n",
    "        zaxis3d_opts=opts.Axis3DOpts(type_=\"value\"),\n",
    "        shading=\"color\",\n",
    "        grid3d_opts=opts.Grid3DOpts(\n",
    "            width=100,\n",
    "            height=100,\n",
    "            depth=100,\n",
    "            is_rotate=True,\n",
    "            rotate_speed=10,\n",
    "            rotate_sensitivity=1,\n",
    "        )\n",
    "    )\n",
    "    .set_global_opts(\n",
    "        visualmap_opts=opts.VisualMapOpts(\n",
    "            min_=-1,\n",
    "            max_=1\n",
    "        )\n",
    "    )\n",
    ")\n",
    "\n",
    "res1.render_notebook()\n"
   ]
  },
  {
   "cell_type": "markdown",
   "id": "3084ecd1",
   "metadata": {},
   "source": [
    "#### 二元正态分布曲面"
   ]
  },
  {
   "cell_type": "code",
   "execution_count": null,
   "id": "df1260a2",
   "metadata": {},
   "outputs": [],
   "source": [
    "# 二维正态分布参数\n",
    "sigma_1 = 15\n",
    "sigma_2 = 15\n",
    "u_1 = 0\n",
    "u_2 = 0\n",
    "A = 40\n",
    "\n",
    "data = []\n",
    "for i in np.arange(-40, 40, 0.1):\n",
    "    for j in np.arange(-40, 40, 0.1):\n",
    "        x = i\n",
    "        y = j\n",
    "        z = A * pow(np.e, -(pow(x - u_1, 2) / pow(sigma_1, 2) + pow(y - u_2, 2) / pow(sigma_2, 2)) / 2.0)\n",
    "        data.append([x, y, z])\n",
    "data = list([[elem[1], elem[0], elem[2]] for elem in data])\n",
    "\n",
    "res2 = (\n",
    "    Surface3D()\n",
    "    .add(\n",
    "        series_name=\"二维正态分布曲面\",\n",
    "        data=data,\n",
    "        xaxis3d_opts=opts.Axis3DOpts(\n",
    "            type_=\"value\",\n",
    "        ),\n",
    "        yaxis3d_opts=opts.Axis3DOpts(\n",
    "            type_=\"value\",\n",
    "        ),\n",
    "        zaxis3d_opts=opts.Axis3DOpts(\n",
    "            type_=\"value\",\n",
    "        ),\n",
    "        shading=\"color\",\n",
    "        grid3d_opts=opts.Grid3DOpts(\n",
    "            width=100,\n",
    "            height=100,\n",
    "            depth=100,\n",
    "            is_rotate=True,\n",
    "            rotate_speed=10,\n",
    "            rotate_sensitivity=1,\n",
    "        ),\n",
    "    )\n",
    "    .set_global_opts(\n",
    "        visualmap_opts=opts.VisualMapOpts(\n",
    "            type_=\"color\",\n",
    "            min_=-1,\n",
    "            max_=1,\n",
    "        )\n",
    "    )\n",
    ")\n",
    "\n",
    "res2.render_notebook()\n"
   ]
  },
  {
   "cell_type": "markdown",
   "id": "234af0d7",
   "metadata": {},
   "source": [
    "#### 球面（半径为5）"
   ]
  },
  {
   "cell_type": "code",
   "execution_count": null,
   "id": "da962a9c",
   "metadata": {},
   "outputs": [],
   "source": [
    "ball_list = []\n",
    "# 球坐标\n",
    "for fai in np.arange(0, np.pi, np.pi / 50):\n",
    "    for seita in np.arange(0, 2 * np.pi, np.pi / 200):\n",
    "        x = 5 * np.sin(fai) * np.cos(seita)\n",
    "        y = 5 * np.sin(fai) * np.sin(seita)\n",
    "        z = 5 * np.cos(fai)\n",
    "        ball_list.append([x, y, z])\n",
    "\n",
    "res3 = (\n",
    "    Surface3D()\n",
    "    .add(\n",
    "        series_name=\"球面\",\n",
    "        shading=\"color\",\n",
    "        data=ball_list,\n",
    "        xaxis3d_opts=opts.Axis3DOpts(type_=\"value\"),\n",
    "        yaxis3d_opts=opts.Axis3DOpts(type_=\"value\"),\n",
    "        grid3d_opts=opts.Grid3DOpts(\n",
    "            width=100,\n",
    "            height=100,\n",
    "            depth=100,\n",
    "            is_rotate=True,\n",
    "            rotate_speed=10,\n",
    "            rotate_sensitivity=1,\n",
    "        ),\n",
    "    )\n",
    "    .set_global_opts(\n",
    "        visualmap_opts=opts.VisualMapOpts(\n",
    "            min_=-1,\n",
    "            max_=1,\n",
    "        )\n",
    "    )\n",
    ")\n",
    "\n",
    "res3.render_notebook()\n"
   ]
  }
 ],
 "metadata": {
  "kernelspec": {
   "display_name": "Python 3 (ipykernel)",
   "language": "python",
   "name": "python3"
  },
  "language_info": {
   "codemirror_mode": {
    "name": "ipython",
    "version": 3
   },
   "file_extension": ".py",
   "mimetype": "text/x-python",
   "name": "python",
   "nbconvert_exporter": "python",
   "pygments_lexer": "ipython3",
   "version": "3.9.13"
  }
 },
 "nbformat": 4,
 "nbformat_minor": 5
}
