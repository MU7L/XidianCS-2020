{
 "cells": [
  {
   "cell_type": "markdown",
   "id": "f5d8aa5c",
   "metadata": {},
   "source": [
    "# Daily minimum temperatures in Melbourne, Australia, 1981-1990"
   ]
  },
  {
   "cell_type": "code",
   "execution_count": 1,
   "id": "36f55fe3",
   "metadata": {},
   "outputs": [],
   "source": [
    "import pandas as pd\n",
    "# read data"
   ]
  },
  {
   "cell_type": "code",
   "execution_count": null,
   "id": "2d01faec",
   "metadata": {},
   "outputs": [],
   "source": [
    "df = pd.read_csv('daily-minimum-temper.csv')\n",
    "df"
   ]
  },
  {
   "cell_type": "code",
   "execution_count": 3,
   "id": "8b62ed2e",
   "metadata": {},
   "outputs": [],
   "source": [
    "# type(df.iloc[0,0])\n",
    "# type(df.iloc[0,1])"
   ]
  },
  {
   "cell_type": "code",
   "execution_count": 4,
   "id": "10bd5b30",
   "metadata": {
    "scrolled": true
   },
   "outputs": [],
   "source": [
    "import datetime\n",
    "# convert data\n",
    "# (datetime.date(2017,3,22) - datetime.date(2017,3,12)).days"
   ]
  },
  {
   "cell_type": "code",
   "execution_count": 5,
   "id": "b36ad317",
   "metadata": {},
   "outputs": [],
   "source": [
    "def xy(datestr):\n",
    "    yy = int(datestr.split('-')[0])\n",
    "    mm = int(datestr.split('-')[1])\n",
    "    dd = int(datestr.split('-')[2])\n",
    "    b = datetime.date(yy,1,1)\n",
    "    d = datetime.date(yy,mm,dd)\n",
    "    x = d.year - 1981\n",
    "    y = (d - b).days\n",
    "    return [x,y]"
   ]
  },
  {
   "cell_type": "code",
   "execution_count": 6,
   "id": "db729afb",
   "metadata": {},
   "outputs": [],
   "source": [
    "def z(datastr):\n",
    "    if '?' in datastr:\n",
    "        datastr = datastr[1:]\n",
    "    return float(datastr)"
   ]
  },
  {
   "cell_type": "code",
   "execution_count": null,
   "id": "4f0251ef",
   "metadata": {},
   "outputs": [],
   "source": [
    "x_axis = [str(i) for i in range(1981,1991)]\n",
    "print(x_axis)\n",
    "y_axis = [str(i) for i in range(1,367)]\n",
    "print(y_axis)\n",
    "data = []\n",
    "for i in df.index:\n",
    "    subdata = xy(df.iloc[i,0])\n",
    "    subdata.append(z(df.iloc[i,1]))\n",
    "    data.append(subdata)\n",
    "print(data)"
   ]
  },
  {
   "cell_type": "code",
   "execution_count": 8,
   "id": "4f4e5dc5",
   "metadata": {},
   "outputs": [],
   "source": [
    "from pyecharts.charts import Bar3D\n",
    "\n",
    "import pyecharts.options as opts\n",
    "# paint"
   ]
  },
  {
   "cell_type": "code",
   "execution_count": null,
   "id": "f8ef53d0",
   "metadata": {},
   "outputs": [],
   "source": [
    "res = (\n",
    "    Bar3D(init_opts=opts.InitOpts(width=\"900px\", height=\"600px\")).add(\n",
    "        series_name=\"\",\n",
    "        data=data,\n",
    "        xaxis3d_opts=opts.Axis3DOpts(type_=\"category\", data=x_axis),\n",
    "        yaxis3d_opts=opts.Axis3DOpts(type_=\"category\", data=y_axis),\n",
    "        zaxis3d_opts=opts.Axis3DOpts(type_=\"value\"),\n",
    "    ).set_global_opts(\n",
    "        title_opts=opts.TitleOpts(\"Daily minimum temperatures in Melbourne, Australia, 1981-1990\"),\n",
    "        visualmap_opts=opts.VisualMapOpts(\n",
    "            max_=20,\n",
    "            range_color=[\n",
    "                \"#313695\", \"#4575b4\", \"#74add1\", \"#abd9e9\", \"#e0f3f8\", \"#ffffbf\", \"#fee090\", \"#fdae61\", \"#f46d43\",\n",
    "                \"#d73027\", \"#a50026\",\n",
    "            ],\n",
    "        )\n",
    "    )\n",
    ")\n",
    "res.render_notebook()"
   ]
  }
 ],
 "metadata": {
  "kernelspec": {
   "display_name": "Python 3 (ipykernel)",
   "language": "python",
   "name": "python3"
  },
  "language_info": {
   "codemirror_mode": {
    "name": "ipython",
    "version": 3
   },
   "file_extension": ".py",
   "mimetype": "text/x-python",
   "name": "python",
   "nbconvert_exporter": "python",
   "pygments_lexer": "ipython3",
   "version": "3.9.13"
  }
 },
 "nbformat": 4,
 "nbformat_minor": 5
}
