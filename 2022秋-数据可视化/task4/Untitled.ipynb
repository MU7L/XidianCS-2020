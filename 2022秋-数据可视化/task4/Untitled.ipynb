{
 "cells": [
  {
   "cell_type": "code",
   "execution_count": 1,
   "id": "d7e11a64",
   "metadata": {},
   "outputs": [],
   "source": [
    "import pandas as pd\n",
    "from pyecharts import options as opts\n",
    "from pyecharts.charts import Map, Bar, Timeline"
   ]
  },
  {
   "cell_type": "code",
   "execution_count": null,
   "id": "9e6c68ae",
   "metadata": {},
   "outputs": [],
   "source": [
    "# 读取文件\n",
    "df = pd.read_excel('CityData.xlsx')\n",
    "df"
   ]
  },
  {
   "cell_type": "code",
   "execution_count": null,
   "id": "03695c8c",
   "metadata": {
    "scrolled": false
   },
   "outputs": [],
   "source": [
    "group_df = df.groupby(['provinceName','updateTime'])['city_confirmedCount'].sum()\n",
    "df = pd.DataFrame(group_df).reset_index()\n",
    "df"
   ]
  },
  {
   "cell_type": "markdown",
   "id": "1a0f23fb",
   "metadata": {},
   "source": [
    "### task1: 统计截止4月1日各省的累计确诊数量，并通过图表展示"
   ]
  },
  {
   "cell_type": "code",
   "execution_count": null,
   "id": "92600d5a",
   "metadata": {},
   "outputs": [],
   "source": [
    "provinces = list(set(df['provinceName'].to_list()))\n",
    "provinces.sort()\n",
    "\n",
    "data_0401 = {province: 0 for province in provinces}\n",
    "\n",
    "grouped = df.loc[df['updateTime']<pd.Timestamp('2020-04-01 00:00:00'),:].groupby(['provinceName'])\n",
    "for province,sub_df in grouped:\n",
    "    print(province)\n",
    "    print(sub_df)\n",
    "    data_0401[province] = int(sub_df.iloc[-1,2])\n",
    "\n",
    "data_0401 = list(data_0401.values())\n",
    "data_0401"
   ]
  },
  {
   "cell_type": "code",
   "execution_count": null,
   "id": "bb218b26",
   "metadata": {},
   "outputs": [],
   "source": [
    "res = (\n",
    "    Bar()\n",
    "    .add_xaxis(\n",
    "        xaxis_data=provinces\n",
    "    )\n",
    "    .add_yaxis(\n",
    "        series_name=\"截止4.1日各省累计确诊人数\",\n",
    "        y_axis=data_0401\n",
    "    )\n",
    "    .set_global_opts(\n",
    "        title_opts=opts.TitleOpts(\n",
    "            title=\"截止4.1日全国疫情条形图\"\n",
    "        ),\n",
    "        xaxis_opts=opts.AxisOpts(\n",
    "            axislabel_opts=opts.LabelOpts(rotate=-45)\n",
    "        ),\n",
    "        visualmap_opts=opts.VisualMapOpts(\n",
    "            min_=min(data_0401),\n",
    "            max_=max(data_0401)\n",
    "        )\n",
    "    )\n",
    ")\n",
    "res.render_notebook()"
   ]
  },
  {
   "cell_type": "markdown",
   "id": "627a5643",
   "metadata": {},
   "source": [
    "### task2: 对每日各省的累计确诊患者数量进行统计，为图像添加时间轴，通过时间轴自动播放演示疫情发展的整个过程"
   ]
  },
  {
   "cell_type": "code",
   "execution_count": 6,
   "id": "dbb1493a",
   "metadata": {
    "scrolled": true
   },
   "outputs": [],
   "source": [
    "date = list(set(list(df['updateTime'])))\n",
    "date.sort()\n",
    "# print(date)\n",
    "\n",
    "grouped = df.groupby(['updateTime'])"
   ]
  },
  {
   "cell_type": "code",
   "execution_count": 7,
   "id": "9d45c23d",
   "metadata": {},
   "outputs": [],
   "source": [
    "# test\n",
    "# sub_df = grouped.get_group(pd.Timestamp('2020-04-01 00:00:00'))\n",
    "# for _,row in sub_df.iterrows():\n",
    "#     print(row['provinceName'],row['city_confirmedCount'])"
   ]
  },
  {
   "cell_type": "code",
   "execution_count": null,
   "id": "1b431332",
   "metadata": {},
   "outputs": [],
   "source": [
    "data = {province: 0 for province in provinces}\n",
    "\n",
    "def get_data(day):\n",
    "    # day: pd.Timestamp\n",
    "    sub_df = grouped.get_group(day)\n",
    "    for _,row in sub_df.iterrows():\n",
    "        data[row['provinceName']] = int(row['city_confirmedCount'])\n",
    "    # excel中的省必须删除后缀省/市/自治区/壮族/回族/维吾尔才能使用\n",
    "    # 因为Map()里的data_pair接收的参数就是这种格式，否则识别不了\n",
    "    my_data = [[key.strip(\"省\").strip(\"市\").strip(\"自治区\").strip(\"壮族\").strip(\"回族\").strip(\"维吾尔\"), value] for key, value in data.items()]\n",
    "    return my_data\n",
    "\n",
    "data"
   ]
  },
  {
   "cell_type": "code",
   "execution_count": 9,
   "id": "fb904bc8",
   "metadata": {},
   "outputs": [],
   "source": [
    "# test\n",
    "# get_data(pd.Timestamp('2020-04-01 00:00:00'))"
   ]
  },
  {
   "cell_type": "code",
   "execution_count": null,
   "id": "adf909bc",
   "metadata": {},
   "outputs": [],
   "source": [
    "# 创建一个时间线轮播图对象\n",
    "t1 = Timeline()\n",
    "# 循环创建与时间点相应的map\n",
    "for day in date:\n",
    "    my_map = (\n",
    "        Map()\n",
    "        .add(\n",
    "            series_name=\"截止{}全国疫情确诊数量\".format(day),\n",
    "            data_pair=get_data(day)\n",
    "        )\n",
    "        .set_global_opts(\n",
    "            title_opts=opts.TitleOpts(\n",
    "                title=\"{}全国疫情确诊地图\".format(day),\n",
    "            ),\n",
    "            visualmap_opts=opts.VisualMapOpts(\n",
    "                # 是否为分段型\n",
    "                is_piecewise=True,\n",
    "                pieces=[\n",
    "                    {\"min\": 1, \"max\": 99, \"label\": \"1-99人\", \"color\": \"#FFEFD5\"},\n",
    "                    {\"min\": 100, \"max\": 999, \"label\": \"100-999人\", \"color\": \"#FFD700\"},\n",
    "                    {\"min\": 1000, \"max\": 9999, \"label\": \"1000-9999人\", \"color\": \"#FF6347\"},\n",
    "                    {\"min\": 10000, \"max\": 999999, \"label\": \">10000人\", \"color\": \"#B22222\"},\n",
    "                ]\n",
    "            )\n",
    "        )\n",
    "    )\n",
    "    t1.add(my_map, day)\n",
    "    t1.add_schema(\n",
    "        # 是否自动播放\n",
    "        is_auto_play=True,\n",
    "        # 是否循环播放\n",
    "        is_loop_play=True,\n",
    "        # 间隔\n",
    "        play_interval=1000\n",
    "    )\n",
    "t1.render_notebook()"
   ]
  }
 ],
 "metadata": {
  "kernelspec": {
   "display_name": "Python 3 (ipykernel)",
   "language": "python",
   "name": "python3"
  },
  "language_info": {
   "codemirror_mode": {
    "name": "ipython",
    "version": 3
   },
   "file_extension": ".py",
   "mimetype": "text/x-python",
   "name": "python",
   "nbconvert_exporter": "python",
   "pygments_lexer": "ipython3",
   "version": "3.9.13"
  }
 },
 "nbformat": 4,
 "nbformat_minor": 5
}
