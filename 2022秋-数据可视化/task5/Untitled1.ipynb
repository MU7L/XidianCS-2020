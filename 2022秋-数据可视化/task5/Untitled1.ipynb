{
 "cells": [
  {
   "cell_type": "code",
   "execution_count": 1,
   "id": "9b0b0bdc",
   "metadata": {},
   "outputs": [],
   "source": [
    "import pandas as pd\n",
    "from pyecharts import options as opts\n",
    "from pyecharts.charts import Parallel, Pie, Bar"
   ]
  },
  {
   "cell_type": "code",
   "execution_count": null,
   "id": "e55ed647",
   "metadata": {},
   "outputs": [],
   "source": [
    "df = pd.read_excel(\"time_allocate_day1.xlsx\", index_col=0)\n",
    "df"
   ]
  },
  {
   "cell_type": "code",
   "execution_count": null,
   "id": "876fa311",
   "metadata": {},
   "outputs": [],
   "source": [
    "# 获取绘制平行坐标系的数据\n",
    "\n",
    "parallel_axis = []\n",
    "for index, column in enumerate(df):\n",
    "    parallel_axis.append({\"dim\": index, \"name\": column})\n",
    "# parallel_axis\n",
    "\n",
    "data = []\n",
    "for _, elem in df.iterrows():\n",
    "    temp = []\n",
    "    for i in range(23):\n",
    "        temp.append(int(elem[i]))\n",
    "    data.append(temp)\n",
    "data"
   ]
  },
  {
   "cell_type": "code",
   "execution_count": null,
   "id": "8bd0b86d",
   "metadata": {},
   "outputs": [],
   "source": [
    "res1 = (\n",
    "    Parallel(init_opts=opts.InitOpts(width=\"850px\", height=\"550px\"))\n",
    "    .add_schema(schema=parallel_axis)\n",
    "    .add(\n",
    "        series_name=\"人员分类\",\n",
    "        data=data,\n",
    "        linestyle_opts=opts.LineStyleOpts(\n",
    "            # 线宽\n",
    "            width=0.5,\n",
    "            # 透明度\n",
    "            opacity=0.5,\n",
    "            # 线的类型 solid/dashed/dotted\n",
    "            type_=\"dashed\",\n",
    "            # 线的颜色\n",
    "            # 线性渐变，前四个参数分别是 x0, y0, x2, y2, 范围从 0 - 1，相当于在图形包围盒中的百分比\n",
    "            # 如果 globalCoord 为 `true`，则该四个值是绝对的像素位置\n",
    "            color={\n",
    "               'type': 'linear',\n",
    "               'x': 0,\n",
    "               'y': 0,\n",
    "               'x2': 0,\n",
    "               'y2': 1,\n",
    "               'colorStops': [{'offset': 0, 'color': 'yellow'}, {'offset': 1, 'color': \"purple\"}],\n",
    "               \"global\": False\n",
    "            }\n",
    "        )\n",
    "    )\n",
    "    .set_global_opts(\n",
    "        title_opts=opts.TitleOpts(\n",
    "            title=\"平行坐标系\"\n",
    "        )\n",
    "    )\n",
    ")\n",
    "res1.render_notebook()"
   ]
  },
  {
   "cell_type": "markdown",
   "id": "9af9d3b5",
   "metadata": {},
   "source": [
    "### 请分析会场中room1~6的功能。"
   ]
  },
  {
   "cell_type": "markdown",
   "id": "c54541fb",
   "metadata": {},
   "source": [
    "1. 嘉宾（约200人）、记者（约20人）\n",
    "2. 嘉宾休息区、记者区"
   ]
  },
  {
   "cell_type": "code",
   "execution_count": null,
   "id": "67b6aefd",
   "metadata": {},
   "outputs": [],
   "source": [
    "x = ['room1', 'room2', 'room3', 'room4', 'room5', 'room6']\n",
    "y = [len(df[df[r]!=0]) for r in x]\n",
    "y"
   ]
  },
  {
   "cell_type": "code",
   "execution_count": null,
   "id": "8a2bed5c",
   "metadata": {},
   "outputs": [],
   "source": [
    "res2 = Bar()\n",
    "res2.add_xaxis(x)\n",
    "res2.add_yaxis('各个房间人数', y)\n",
    "res2.set_global_opts(title_opts=opts.TitleOpts(title='比较图'))\n",
    "\n",
    "res2.render_notebook()\n"
   ]
  },
  {
   "cell_type": "markdown",
   "id": "82266ffa",
   "metadata": {},
   "source": [
    "- room2 对应嘉宾200多人\n",
    "- room4 对应记者20多人"
   ]
  },
  {
   "cell_type": "markdown",
   "id": "dce17813",
   "metadata": {},
   "source": [
    "3. 工作人员在各个场所（除厕所外）都有固定的岗位安排"
   ]
  },
  {
   "cell_type": "code",
   "execution_count": null,
   "id": "2a85866d",
   "metadata": {},
   "outputs": [],
   "source": [
    "tmp = df[['餐厅','服务台','过道1楼','过道2楼','楼梯','海报区','签到处','休闲区','展厅']].sum(axis=1)\n",
    "tmp.values  # 放弃"
   ]
  },
  {
   "cell_type": "code",
   "execution_count": null,
   "id": "ea16d500",
   "metadata": {},
   "outputs": [],
   "source": [
    "res3 = Bar()\n",
    "res3.add_xaxis(list(tmp.index))\n",
    "res3.add_yaxis('时长', [int(i) for i in tmp.values])\n",
    "res3.set_global_opts(title_opts=opts.TitleOpts(title='比较图'))\n",
    "res3.render_notebook()"
   ]
  },
  {
   "cell_type": "markdown",
   "id": "535ad34f",
   "metadata": {},
   "source": [
    "4. 黑客竞赛参赛者未参与到主会场以及各个分会场中"
   ]
  },
  {
   "cell_type": "code",
   "execution_count": null,
   "id": "2ebba43b",
   "metadata": {},
   "outputs": [],
   "source": [
    "sub_df = df.loc[(df['分会场A']==0) & (df['分会场B']==0) & (df['分会场C']==0) & (df['分会场D']==0) & (df['主会场']==0),['room1','room2','room3','room4','room5','room6']]\n",
    "sub_df.mean().values"
   ]
  },
  {
   "cell_type": "code",
   "execution_count": null,
   "id": "712a7ef2",
   "metadata": {},
   "outputs": [],
   "source": [
    "attr = list(sub_df.mean().index)\n",
    "v1 = list(sub_df.mean().values)\n",
    "res4 = (\n",
    "    Pie(init_opts=opts.InitOpts(width=\"700px\", height=\"550px\"))\n",
    "    .add(\n",
    "            \"\",\n",
    "            [list(z) for z in zip(attr,v1)],\n",
    "            radius=[\"40%\", \"75%\"],\n",
    "        )\n",
    "    .set_global_opts(title_opts=opts.TitleOpts(title=\"黑客竞赛参赛者在各房间时长\"))\n",
    "    .set_series_opts(label_opts=opts.LabelOpts(formatter=\"{b}: {c}\"))\n",
    ")\n",
    "res4.render_notebook()"
   ]
  },
  {
   "cell_type": "markdown",
   "id": "a048d7e3",
   "metadata": {},
   "source": [
    "room5 可能为黑客竞赛现场"
   ]
  }
 ],
 "metadata": {
  "kernelspec": {
   "display_name": "Python 3 (ipykernel)",
   "language": "python",
   "name": "python3"
  },
  "language_info": {
   "codemirror_mode": {
    "name": "ipython",
    "version": 3
   },
   "file_extension": ".py",
   "mimetype": "text/x-python",
   "name": "python",
   "nbconvert_exporter": "python",
   "pygments_lexer": "ipython3",
   "version": "3.9.13"
  }
 },
 "nbformat": 4,
 "nbformat_minor": 5
}
